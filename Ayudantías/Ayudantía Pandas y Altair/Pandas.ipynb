{
  "nbformat": 4,
  "nbformat_minor": 0,
  "metadata": {
    "colab": {
      "name": "Pandas.ipynb",
      "provenance": []
    },
    "kernelspec": {
      "display_name": "Python 3",
      "language": "python",
      "name": "python3"
    },
    "language_info": {
      "codemirror_mode": {
        "name": "ipython",
        "version": 3
      },
      "file_extension": ".py",
      "mimetype": "text/x-python",
      "name": "python",
      "nbconvert_exporter": "python",
      "pygments_lexer": "ipython3",
      "version": "3.6.8"
    }
  },
  "cells": [
    {
      "cell_type": "markdown",
      "metadata": {
        "id": "TPn8-0oiAnqO",
        "colab_type": "text"
      },
      "source": [
        "A continuación se importan los módulos a utilizar."
      ]
    },
    {
      "cell_type": "code",
      "metadata": {
        "colab_type": "code",
        "id": "85zV9rkqJ0pN",
        "colab": {}
      },
      "source": [
        "import pandas as pd\n",
        "import time"
      ],
      "execution_count": 1,
      "outputs": []
    },
    {
      "cell_type": "markdown",
      "metadata": {
        "id": "Qd7Je70gAnqx",
        "colab_type": "text"
      },
      "source": [
        "Se crea una lista con letras arbitrarias y a partir de esta se crea un *dataframe*."
      ]
    },
    {
      "cell_type": "code",
      "metadata": {
        "colab_type": "code",
        "id": "AwXUKUymJ0pQ",
        "colab": {
          "base_uri": "https://localhost:8080/",
          "height": 166
        },
        "outputId": "b0f48d49-4745-4aa2-a7e0-960788049917"
      },
      "source": [
        "list_a = [\"a\", \"b\", \"c\", \"d\"]\n",
        "\n",
        "# Creamos un dataframe a partir de una lista.\n",
        "df = pd.DataFrame(list_a, columns=[\"Value A\"])\n",
        "df"
      ],
      "execution_count": 2,
      "outputs": [
        {
          "output_type": "execute_result",
          "data": {
            "text/html": [
              "<div>\n",
              "<style scoped>\n",
              "    .dataframe tbody tr th:only-of-type {\n",
              "        vertical-align: middle;\n",
              "    }\n",
              "\n",
              "    .dataframe tbody tr th {\n",
              "        vertical-align: top;\n",
              "    }\n",
              "\n",
              "    .dataframe thead th {\n",
              "        text-align: right;\n",
              "    }\n",
              "</style>\n",
              "<table border=\"1\" class=\"dataframe\">\n",
              "  <thead>\n",
              "    <tr style=\"text-align: right;\">\n",
              "      <th></th>\n",
              "      <th>Value A</th>\n",
              "    </tr>\n",
              "  </thead>\n",
              "  <tbody>\n",
              "    <tr>\n",
              "      <th>0</th>\n",
              "      <td>a</td>\n",
              "    </tr>\n",
              "    <tr>\n",
              "      <th>1</th>\n",
              "      <td>b</td>\n",
              "    </tr>\n",
              "    <tr>\n",
              "      <th>2</th>\n",
              "      <td>c</td>\n",
              "    </tr>\n",
              "    <tr>\n",
              "      <th>3</th>\n",
              "      <td>d</td>\n",
              "    </tr>\n",
              "  </tbody>\n",
              "</table>\n",
              "</div>"
            ],
            "text/plain": [
              "  Value A\n",
              "0       a\n",
              "1       b\n",
              "2       c\n",
              "3       d"
            ]
          },
          "metadata": {
            "tags": []
          },
          "execution_count": 2
        }
      ]
    },
    {
      "cell_type": "markdown",
      "metadata": {
        "id": "TPgTL-VqAnrD",
        "colab_type": "text"
      },
      "source": [
        "Se crea otra lista con números arbitrarios y estos se añaden como una nueva columna al *dataframe* creado en la celda anterior."
      ]
    },
    {
      "cell_type": "code",
      "metadata": {
        "colab_type": "code",
        "id": "AOeihhK_J0pT",
        "colab": {
          "base_uri": "https://localhost:8080/",
          "height": 166
        },
        "outputId": "9434e67b-742e-437b-a426-5579ca69b07e"
      },
      "source": [
        "list_b = [1,2,3,4]\n",
        "\n",
        "# Agregamos una nueva columna al dataframe\n",
        "df[\"Value B\"] = list_b\n",
        "df"
      ],
      "execution_count": 3,
      "outputs": [
        {
          "output_type": "execute_result",
          "data": {
            "text/html": [
              "<div>\n",
              "<style scoped>\n",
              "    .dataframe tbody tr th:only-of-type {\n",
              "        vertical-align: middle;\n",
              "    }\n",
              "\n",
              "    .dataframe tbody tr th {\n",
              "        vertical-align: top;\n",
              "    }\n",
              "\n",
              "    .dataframe thead th {\n",
              "        text-align: right;\n",
              "    }\n",
              "</style>\n",
              "<table border=\"1\" class=\"dataframe\">\n",
              "  <thead>\n",
              "    <tr style=\"text-align: right;\">\n",
              "      <th></th>\n",
              "      <th>Value A</th>\n",
              "      <th>Value B</th>\n",
              "    </tr>\n",
              "  </thead>\n",
              "  <tbody>\n",
              "    <tr>\n",
              "      <th>0</th>\n",
              "      <td>a</td>\n",
              "      <td>1</td>\n",
              "    </tr>\n",
              "    <tr>\n",
              "      <th>1</th>\n",
              "      <td>b</td>\n",
              "      <td>2</td>\n",
              "    </tr>\n",
              "    <tr>\n",
              "      <th>2</th>\n",
              "      <td>c</td>\n",
              "      <td>3</td>\n",
              "    </tr>\n",
              "    <tr>\n",
              "      <th>3</th>\n",
              "      <td>d</td>\n",
              "      <td>4</td>\n",
              "    </tr>\n",
              "  </tbody>\n",
              "</table>\n",
              "</div>"
            ],
            "text/plain": [
              "  Value A  Value B\n",
              "0       a        1\n",
              "1       b        2\n",
              "2       c        3\n",
              "3       d        4"
            ]
          },
          "metadata": {
            "tags": []
          },
          "execution_count": 3
        }
      ]
    },
    {
      "cell_type": "markdown",
      "metadata": {
        "id": "uzQnn5g7AnrI",
        "colab_type": "text"
      },
      "source": [
        "Al utilizar .colums se puede visualizar los nombres de las columnas del *dataframe*."
      ]
    },
    {
      "cell_type": "code",
      "metadata": {
        "colab_type": "code",
        "id": "KaFdT-EwJ0pV",
        "colab": {
          "base_uri": "https://localhost:8080/",
          "height": 34
        },
        "outputId": "7d5181ce-171e-4fd1-870d-44bbbcf80bf5"
      },
      "source": [
        "df.columns"
      ],
      "execution_count": 4,
      "outputs": [
        {
          "output_type": "execute_result",
          "data": {
            "text/plain": [
              "Index(['Value A', 'Value B'], dtype='object')"
            ]
          },
          "metadata": {
            "tags": []
          },
          "execution_count": 4
        }
      ]
    },
    {
      "cell_type": "markdown",
      "metadata": {
        "id": "HUSL26grAnrL",
        "colab_type": "text"
      },
      "source": [
        "El siguiente código muestra la fila correspondiente al número que se entrega, mediante índices. En este caso como se coloca 0, muestra la primera fila del *dataframe*. Se recomienda probar con ambas líneas por separado y cambiar el valor."
      ]
    },
    {
      "cell_type": "code",
      "metadata": {
        "colab_type": "code",
        "id": "UZ06WdJ0J0pY",
        "colab": {
          "base_uri": "https://localhost:8080/",
          "height": 67
        },
        "outputId": "f5e6f868-0e53-4458-fae8-8948db3a46e6"
      },
      "source": [
        "# df[0]\n",
        "df.iloc[0]"
      ],
      "execution_count": 5,
      "outputs": [
        {
          "output_type": "execute_result",
          "data": {
            "text/plain": [
              "Value A    a\n",
              "Value B    1\n",
              "Name: 0, dtype: object"
            ]
          },
          "metadata": {
            "tags": []
          },
          "execution_count": 5
        }
      ]
    },
    {
      "cell_type": "markdown",
      "metadata": {
        "id": "oflTycPdAnrP",
        "colab_type": "text"
      },
      "source": [
        "El siguiente código elimina las etiquetas especificadas de filas o columnas. Al escribir **df** se puede visualizar como quedó el *dataframe* luego de utilizar *drop*. "
      ]
    },
    {
      "cell_type": "code",
      "metadata": {
        "colab_type": "code",
        "id": "zXT7D0G3J0pa",
        "colab": {
          "base_uri": "https://localhost:8080/",
          "height": 136
        },
        "outputId": "873da909-1e8f-4489-bc0a-fc41cbee1538"
      },
      "source": [
        "df = df.drop(0, axis = 0)\n",
        "df"
      ],
      "execution_count": 6,
      "outputs": [
        {
          "output_type": "execute_result",
          "data": {
            "text/html": [
              "<div>\n",
              "<style scoped>\n",
              "    .dataframe tbody tr th:only-of-type {\n",
              "        vertical-align: middle;\n",
              "    }\n",
              "\n",
              "    .dataframe tbody tr th {\n",
              "        vertical-align: top;\n",
              "    }\n",
              "\n",
              "    .dataframe thead th {\n",
              "        text-align: right;\n",
              "    }\n",
              "</style>\n",
              "<table border=\"1\" class=\"dataframe\">\n",
              "  <thead>\n",
              "    <tr style=\"text-align: right;\">\n",
              "      <th></th>\n",
              "      <th>Value A</th>\n",
              "      <th>Value B</th>\n",
              "    </tr>\n",
              "  </thead>\n",
              "  <tbody>\n",
              "    <tr>\n",
              "      <th>1</th>\n",
              "      <td>b</td>\n",
              "      <td>2</td>\n",
              "    </tr>\n",
              "    <tr>\n",
              "      <th>2</th>\n",
              "      <td>c</td>\n",
              "      <td>3</td>\n",
              "    </tr>\n",
              "    <tr>\n",
              "      <th>3</th>\n",
              "      <td>d</td>\n",
              "      <td>4</td>\n",
              "    </tr>\n",
              "  </tbody>\n",
              "</table>\n",
              "</div>"
            ],
            "text/plain": [
              "  Value A  Value B\n",
              "1       b        2\n",
              "2       c        3\n",
              "3       d        4"
            ]
          },
          "metadata": {
            "tags": []
          },
          "execution_count": 6
        }
      ]
    },
    {
      "cell_type": "markdown",
      "metadata": {
        "id": "urSYl6XAAnrW",
        "colab_type": "text"
      },
      "source": [
        "A continuación se crean otras dos listas arbitrarias y se agregan al *dataframe*."
      ]
    },
    {
      "cell_type": "code",
      "metadata": {
        "colab_type": "code",
        "id": "A2l36QIlJ0pd",
        "colab": {
          "base_uri": "https://localhost:8080/",
          "height": 136
        },
        "outputId": "8eb6f414-9172-4912-dab3-7f8b91a538eb"
      },
      "source": [
        "list_c = [\"a\", \"a\", \"b\"]\n",
        "df[\"Value C\"] = list_c\n",
        "df"
      ],
      "execution_count": 7,
      "outputs": [
        {
          "output_type": "execute_result",
          "data": {
            "text/html": [
              "<div>\n",
              "<style scoped>\n",
              "    .dataframe tbody tr th:only-of-type {\n",
              "        vertical-align: middle;\n",
              "    }\n",
              "\n",
              "    .dataframe tbody tr th {\n",
              "        vertical-align: top;\n",
              "    }\n",
              "\n",
              "    .dataframe thead th {\n",
              "        text-align: right;\n",
              "    }\n",
              "</style>\n",
              "<table border=\"1\" class=\"dataframe\">\n",
              "  <thead>\n",
              "    <tr style=\"text-align: right;\">\n",
              "      <th></th>\n",
              "      <th>Value A</th>\n",
              "      <th>Value B</th>\n",
              "      <th>Value C</th>\n",
              "    </tr>\n",
              "  </thead>\n",
              "  <tbody>\n",
              "    <tr>\n",
              "      <th>1</th>\n",
              "      <td>b</td>\n",
              "      <td>2</td>\n",
              "      <td>a</td>\n",
              "    </tr>\n",
              "    <tr>\n",
              "      <th>2</th>\n",
              "      <td>c</td>\n",
              "      <td>3</td>\n",
              "      <td>a</td>\n",
              "    </tr>\n",
              "    <tr>\n",
              "      <th>3</th>\n",
              "      <td>d</td>\n",
              "      <td>4</td>\n",
              "      <td>b</td>\n",
              "    </tr>\n",
              "  </tbody>\n",
              "</table>\n",
              "</div>"
            ],
            "text/plain": [
              "  Value A  Value B Value C\n",
              "1       b        2       a\n",
              "2       c        3       a\n",
              "3       d        4       b"
            ]
          },
          "metadata": {
            "tags": []
          },
          "execution_count": 7
        }
      ]
    },
    {
      "cell_type": "code",
      "metadata": {
        "colab_type": "code",
        "id": "HqXWQuDtv6hA",
        "colab": {
          "base_uri": "https://localhost:8080/",
          "height": 136
        },
        "outputId": "7b378d2e-0425-4a9f-e855-98eb29361176"
      },
      "source": [
        "list_c = [1, 10, 5]\n",
        "df[\"Value D\"] = list_c\n",
        "df"
      ],
      "execution_count": 8,
      "outputs": [
        {
          "output_type": "execute_result",
          "data": {
            "text/html": [
              "<div>\n",
              "<style scoped>\n",
              "    .dataframe tbody tr th:only-of-type {\n",
              "        vertical-align: middle;\n",
              "    }\n",
              "\n",
              "    .dataframe tbody tr th {\n",
              "        vertical-align: top;\n",
              "    }\n",
              "\n",
              "    .dataframe thead th {\n",
              "        text-align: right;\n",
              "    }\n",
              "</style>\n",
              "<table border=\"1\" class=\"dataframe\">\n",
              "  <thead>\n",
              "    <tr style=\"text-align: right;\">\n",
              "      <th></th>\n",
              "      <th>Value A</th>\n",
              "      <th>Value B</th>\n",
              "      <th>Value C</th>\n",
              "      <th>Value D</th>\n",
              "    </tr>\n",
              "  </thead>\n",
              "  <tbody>\n",
              "    <tr>\n",
              "      <th>1</th>\n",
              "      <td>b</td>\n",
              "      <td>2</td>\n",
              "      <td>a</td>\n",
              "      <td>1</td>\n",
              "    </tr>\n",
              "    <tr>\n",
              "      <th>2</th>\n",
              "      <td>c</td>\n",
              "      <td>3</td>\n",
              "      <td>a</td>\n",
              "      <td>10</td>\n",
              "    </tr>\n",
              "    <tr>\n",
              "      <th>3</th>\n",
              "      <td>d</td>\n",
              "      <td>4</td>\n",
              "      <td>b</td>\n",
              "      <td>5</td>\n",
              "    </tr>\n",
              "  </tbody>\n",
              "</table>\n",
              "</div>"
            ],
            "text/plain": [
              "  Value A  Value B Value C  Value D\n",
              "1       b        2       a        1\n",
              "2       c        3       a       10\n",
              "3       d        4       b        5"
            ]
          },
          "metadata": {
            "tags": []
          },
          "execution_count": 8
        }
      ]
    },
    {
      "cell_type": "markdown",
      "metadata": {
        "id": "w0jeD1PVAnrd",
        "colab_type": "text"
      },
      "source": [
        ".groupby() se utiliza para dividir los datos en grupos según algunos criterios, en este caso es \"Value C\" y luego se utiliza .mean() para calcular la media."
      ]
    },
    {
      "cell_type": "code",
      "metadata": {
        "colab_type": "code",
        "id": "HnodaUf2J0ph",
        "colab": {
          "base_uri": "https://localhost:8080/",
          "height": 136
        },
        "outputId": "f299db6f-b23c-42bc-89a8-397273067333"
      },
      "source": [
        "df.groupby(by = \"Value C\").mean()"
      ],
      "execution_count": 9,
      "outputs": [
        {
          "output_type": "execute_result",
          "data": {
            "text/html": [
              "<div>\n",
              "<style scoped>\n",
              "    .dataframe tbody tr th:only-of-type {\n",
              "        vertical-align: middle;\n",
              "    }\n",
              "\n",
              "    .dataframe tbody tr th {\n",
              "        vertical-align: top;\n",
              "    }\n",
              "\n",
              "    .dataframe thead th {\n",
              "        text-align: right;\n",
              "    }\n",
              "</style>\n",
              "<table border=\"1\" class=\"dataframe\">\n",
              "  <thead>\n",
              "    <tr style=\"text-align: right;\">\n",
              "      <th></th>\n",
              "      <th>Value B</th>\n",
              "      <th>Value D</th>\n",
              "    </tr>\n",
              "    <tr>\n",
              "      <th>Value C</th>\n",
              "      <th></th>\n",
              "      <th></th>\n",
              "    </tr>\n",
              "  </thead>\n",
              "  <tbody>\n",
              "    <tr>\n",
              "      <th>a</th>\n",
              "      <td>2.5</td>\n",
              "      <td>5.5</td>\n",
              "    </tr>\n",
              "    <tr>\n",
              "      <th>b</th>\n",
              "      <td>4.0</td>\n",
              "      <td>5.0</td>\n",
              "    </tr>\n",
              "  </tbody>\n",
              "</table>\n",
              "</div>"
            ],
            "text/plain": [
              "         Value B  Value D\n",
              "Value C                  \n",
              "a            2.5      5.5\n",
              "b            4.0      5.0"
            ]
          },
          "metadata": {
            "tags": []
          },
          "execution_count": 9
        }
      ]
    },
    {
      "cell_type": "markdown",
      "metadata": {
        "colab_type": "text",
        "id": "IX2w6c8xJ0pj"
      },
      "source": [
        "## Ejemplo cargando un CSV"
      ]
    },
    {
      "cell_type": "markdown",
      "metadata": {
        "id": "hhfhdMjYAnrh",
        "colab_type": "text"
      },
      "source": [
        "A continuación se define una url, se utiliza pd.read_csv(url) para obtener los datos del csv que se encuentran en la url definida. Lego se utiliza .drop() para eliminar las columnas con las etiquetas \"0\", \"ID\" y \"Type\". Finalmente se utiliza data para visualizar la tabla de datos obtenida."
      ]
    },
    {
      "cell_type": "code",
      "metadata": {
        "colab_type": "code",
        "id": "7QR_-CzdJ0pk",
        "colab": {
          "base_uri": "https://localhost:8080/",
          "height": 586
        },
        "outputId": "8e42f409-a47b-4843-cd14-a8db2be40d87"
      },
      "source": [
        "url = \"https://raw.githubusercontent.com/Exploratorio-DCC-PUC/Syllabus/master/Tareas/TG1/datos.csv\"\n",
        "\n",
        "data = pd.read_csv(url)\n",
        "# data = pd.read_csv(\"datos.csv\")\n",
        "data = data.drop(columns=[\"Unnamed: 0\", \"ID\", \"Type\"])\n",
        "data"
      ],
      "execution_count": 10,
      "outputs": [
        {
          "output_type": "execute_result",
          "data": {
            "text/html": [
              "<div>\n",
              "<style scoped>\n",
              "    .dataframe tbody tr th:only-of-type {\n",
              "        vertical-align: middle;\n",
              "    }\n",
              "\n",
              "    .dataframe tbody tr th {\n",
              "        vertical-align: top;\n",
              "    }\n",
              "\n",
              "    .dataframe thead th {\n",
              "        text-align: right;\n",
              "    }\n",
              "</style>\n",
              "<table border=\"1\" class=\"dataframe\">\n",
              "  <thead>\n",
              "    <tr style=\"text-align: right;\">\n",
              "      <th></th>\n",
              "      <th>Title</th>\n",
              "      <th>Year</th>\n",
              "      <th>Age</th>\n",
              "      <th>IMDb</th>\n",
              "      <th>Rotten Tomatoes</th>\n",
              "      <th>Netflix</th>\n",
              "      <th>Hulu</th>\n",
              "      <th>Prime Video</th>\n",
              "      <th>Disney+</th>\n",
              "      <th>Directors</th>\n",
              "      <th>Genres</th>\n",
              "      <th>Country</th>\n",
              "      <th>Language</th>\n",
              "      <th>Runtime</th>\n",
              "    </tr>\n",
              "  </thead>\n",
              "  <tbody>\n",
              "    <tr>\n",
              "      <th>0</th>\n",
              "      <td>Inception</td>\n",
              "      <td>2010</td>\n",
              "      <td>13+</td>\n",
              "      <td>8.8</td>\n",
              "      <td>87%</td>\n",
              "      <td>1</td>\n",
              "      <td>0</td>\n",
              "      <td>0</td>\n",
              "      <td>0</td>\n",
              "      <td>Christopher Nolan</td>\n",
              "      <td>Action,Adventure,Sci-Fi,Thriller</td>\n",
              "      <td>United States,United Kingdom</td>\n",
              "      <td>English,Japanese,French</td>\n",
              "      <td>148.0</td>\n",
              "    </tr>\n",
              "    <tr>\n",
              "      <th>1</th>\n",
              "      <td>The Matrix</td>\n",
              "      <td>1999</td>\n",
              "      <td>18+</td>\n",
              "      <td>8.7</td>\n",
              "      <td>87%</td>\n",
              "      <td>1</td>\n",
              "      <td>0</td>\n",
              "      <td>0</td>\n",
              "      <td>0</td>\n",
              "      <td>Lana Wachowski,Lilly Wachowski</td>\n",
              "      <td>Action,Sci-Fi</td>\n",
              "      <td>United States</td>\n",
              "      <td>English</td>\n",
              "      <td>136.0</td>\n",
              "    </tr>\n",
              "    <tr>\n",
              "      <th>2</th>\n",
              "      <td>Avengers: Infinity War</td>\n",
              "      <td>2018</td>\n",
              "      <td>13+</td>\n",
              "      <td>8.5</td>\n",
              "      <td>84%</td>\n",
              "      <td>1</td>\n",
              "      <td>0</td>\n",
              "      <td>0</td>\n",
              "      <td>0</td>\n",
              "      <td>Anthony Russo,Joe Russo</td>\n",
              "      <td>Action,Adventure,Sci-Fi</td>\n",
              "      <td>United States</td>\n",
              "      <td>English</td>\n",
              "      <td>149.0</td>\n",
              "    </tr>\n",
              "    <tr>\n",
              "      <th>3</th>\n",
              "      <td>Back to the Future</td>\n",
              "      <td>1985</td>\n",
              "      <td>7+</td>\n",
              "      <td>8.5</td>\n",
              "      <td>96%</td>\n",
              "      <td>1</td>\n",
              "      <td>0</td>\n",
              "      <td>0</td>\n",
              "      <td>0</td>\n",
              "      <td>Robert Zemeckis</td>\n",
              "      <td>Adventure,Comedy,Sci-Fi</td>\n",
              "      <td>United States</td>\n",
              "      <td>English</td>\n",
              "      <td>116.0</td>\n",
              "    </tr>\n",
              "    <tr>\n",
              "      <th>4</th>\n",
              "      <td>The Good, the Bad and the Ugly</td>\n",
              "      <td>1966</td>\n",
              "      <td>18+</td>\n",
              "      <td>8.8</td>\n",
              "      <td>97%</td>\n",
              "      <td>1</td>\n",
              "      <td>0</td>\n",
              "      <td>1</td>\n",
              "      <td>0</td>\n",
              "      <td>Sergio Leone</td>\n",
              "      <td>Western</td>\n",
              "      <td>Italy,Spain,West Germany</td>\n",
              "      <td>Italian</td>\n",
              "      <td>161.0</td>\n",
              "    </tr>\n",
              "    <tr>\n",
              "      <th>...</th>\n",
              "      <td>...</td>\n",
              "      <td>...</td>\n",
              "      <td>...</td>\n",
              "      <td>...</td>\n",
              "      <td>...</td>\n",
              "      <td>...</td>\n",
              "      <td>...</td>\n",
              "      <td>...</td>\n",
              "      <td>...</td>\n",
              "      <td>...</td>\n",
              "      <td>...</td>\n",
              "      <td>...</td>\n",
              "      <td>...</td>\n",
              "      <td>...</td>\n",
              "    </tr>\n",
              "    <tr>\n",
              "      <th>16739</th>\n",
              "      <td>The Ghosts of Buxley Hall</td>\n",
              "      <td>1980</td>\n",
              "      <td>NaN</td>\n",
              "      <td>6.2</td>\n",
              "      <td>NaN</td>\n",
              "      <td>0</td>\n",
              "      <td>0</td>\n",
              "      <td>0</td>\n",
              "      <td>1</td>\n",
              "      <td>Bruce Bilson</td>\n",
              "      <td>Comedy,Family,Fantasy,Horror</td>\n",
              "      <td>United States</td>\n",
              "      <td>English</td>\n",
              "      <td>120.0</td>\n",
              "    </tr>\n",
              "    <tr>\n",
              "      <th>16740</th>\n",
              "      <td>The Poof Point</td>\n",
              "      <td>2001</td>\n",
              "      <td>7+</td>\n",
              "      <td>4.7</td>\n",
              "      <td>NaN</td>\n",
              "      <td>0</td>\n",
              "      <td>0</td>\n",
              "      <td>0</td>\n",
              "      <td>1</td>\n",
              "      <td>Neal Israel</td>\n",
              "      <td>Comedy,Family,Sci-Fi</td>\n",
              "      <td>United States</td>\n",
              "      <td>English</td>\n",
              "      <td>90.0</td>\n",
              "    </tr>\n",
              "    <tr>\n",
              "      <th>16741</th>\n",
              "      <td>Sharks of Lost Island</td>\n",
              "      <td>2013</td>\n",
              "      <td>NaN</td>\n",
              "      <td>5.7</td>\n",
              "      <td>NaN</td>\n",
              "      <td>0</td>\n",
              "      <td>0</td>\n",
              "      <td>0</td>\n",
              "      <td>1</td>\n",
              "      <td>Neil Gelinas</td>\n",
              "      <td>Documentary</td>\n",
              "      <td>United States</td>\n",
              "      <td>English</td>\n",
              "      <td>NaN</td>\n",
              "    </tr>\n",
              "    <tr>\n",
              "      <th>16742</th>\n",
              "      <td>Man Among Cheetahs</td>\n",
              "      <td>2017</td>\n",
              "      <td>NaN</td>\n",
              "      <td>6.6</td>\n",
              "      <td>NaN</td>\n",
              "      <td>0</td>\n",
              "      <td>0</td>\n",
              "      <td>0</td>\n",
              "      <td>1</td>\n",
              "      <td>Richard Slater-Jones</td>\n",
              "      <td>Documentary</td>\n",
              "      <td>United States</td>\n",
              "      <td>English</td>\n",
              "      <td>NaN</td>\n",
              "    </tr>\n",
              "    <tr>\n",
              "      <th>16743</th>\n",
              "      <td>In Beaver Valley</td>\n",
              "      <td>1950</td>\n",
              "      <td>NaN</td>\n",
              "      <td>NaN</td>\n",
              "      <td>NaN</td>\n",
              "      <td>0</td>\n",
              "      <td>0</td>\n",
              "      <td>0</td>\n",
              "      <td>1</td>\n",
              "      <td>James Algar</td>\n",
              "      <td>Documentary,Short,Family</td>\n",
              "      <td>United States</td>\n",
              "      <td>English</td>\n",
              "      <td>32.0</td>\n",
              "    </tr>\n",
              "  </tbody>\n",
              "</table>\n",
              "<p>16744 rows × 14 columns</p>\n",
              "</div>"
            ],
            "text/plain": [
              "                                Title  Year  ...                 Language  Runtime\n",
              "0                           Inception  2010  ...  English,Japanese,French    148.0\n",
              "1                          The Matrix  1999  ...                  English    136.0\n",
              "2              Avengers: Infinity War  2018  ...                  English    149.0\n",
              "3                  Back to the Future  1985  ...                  English    116.0\n",
              "4      The Good, the Bad and the Ugly  1966  ...                  Italian    161.0\n",
              "...                               ...   ...  ...                      ...      ...\n",
              "16739       The Ghosts of Buxley Hall  1980  ...                  English    120.0\n",
              "16740                  The Poof Point  2001  ...                  English     90.0\n",
              "16741           Sharks of Lost Island  2013  ...                  English      NaN\n",
              "16742              Man Among Cheetahs  2017  ...                  English      NaN\n",
              "16743                In Beaver Valley  1950  ...                  English     32.0\n",
              "\n",
              "[16744 rows x 14 columns]"
            ]
          },
          "metadata": {
            "tags": []
          },
          "execution_count": 10
        }
      ]
    },
    {
      "cell_type": "markdown",
      "metadata": {
        "id": "BHJybZ9kAnro",
        "colab_type": "text"
      },
      "source": [
        "El código que se muestra a continuación permite visualizar las columnas \"Title\", \"Year\" y \"IMDb\". "
      ]
    },
    {
      "cell_type": "code",
      "metadata": {
        "colab_type": "code",
        "id": "X2E4iGcXXN1J",
        "colab": {
          "base_uri": "https://localhost:8080/",
          "height": 402
        },
        "outputId": "cfc332b1-49c9-474e-aaa5-d4e5c5bf8f1c"
      },
      "source": [
        "data_acotada = pd.read_csv(url, usecols=[\"Title\", \"Year\", \"IMDb\"])\n",
        "data_acotada"
      ],
      "execution_count": 11,
      "outputs": [
        {
          "output_type": "execute_result",
          "data": {
            "text/html": [
              "<div>\n",
              "<style scoped>\n",
              "    .dataframe tbody tr th:only-of-type {\n",
              "        vertical-align: middle;\n",
              "    }\n",
              "\n",
              "    .dataframe tbody tr th {\n",
              "        vertical-align: top;\n",
              "    }\n",
              "\n",
              "    .dataframe thead th {\n",
              "        text-align: right;\n",
              "    }\n",
              "</style>\n",
              "<table border=\"1\" class=\"dataframe\">\n",
              "  <thead>\n",
              "    <tr style=\"text-align: right;\">\n",
              "      <th></th>\n",
              "      <th>Title</th>\n",
              "      <th>Year</th>\n",
              "      <th>IMDb</th>\n",
              "    </tr>\n",
              "  </thead>\n",
              "  <tbody>\n",
              "    <tr>\n",
              "      <th>0</th>\n",
              "      <td>Inception</td>\n",
              "      <td>2010</td>\n",
              "      <td>8.8</td>\n",
              "    </tr>\n",
              "    <tr>\n",
              "      <th>1</th>\n",
              "      <td>The Matrix</td>\n",
              "      <td>1999</td>\n",
              "      <td>8.7</td>\n",
              "    </tr>\n",
              "    <tr>\n",
              "      <th>2</th>\n",
              "      <td>Avengers: Infinity War</td>\n",
              "      <td>2018</td>\n",
              "      <td>8.5</td>\n",
              "    </tr>\n",
              "    <tr>\n",
              "      <th>3</th>\n",
              "      <td>Back to the Future</td>\n",
              "      <td>1985</td>\n",
              "      <td>8.5</td>\n",
              "    </tr>\n",
              "    <tr>\n",
              "      <th>4</th>\n",
              "      <td>The Good, the Bad and the Ugly</td>\n",
              "      <td>1966</td>\n",
              "      <td>8.8</td>\n",
              "    </tr>\n",
              "    <tr>\n",
              "      <th>...</th>\n",
              "      <td>...</td>\n",
              "      <td>...</td>\n",
              "      <td>...</td>\n",
              "    </tr>\n",
              "    <tr>\n",
              "      <th>16739</th>\n",
              "      <td>The Ghosts of Buxley Hall</td>\n",
              "      <td>1980</td>\n",
              "      <td>6.2</td>\n",
              "    </tr>\n",
              "    <tr>\n",
              "      <th>16740</th>\n",
              "      <td>The Poof Point</td>\n",
              "      <td>2001</td>\n",
              "      <td>4.7</td>\n",
              "    </tr>\n",
              "    <tr>\n",
              "      <th>16741</th>\n",
              "      <td>Sharks of Lost Island</td>\n",
              "      <td>2013</td>\n",
              "      <td>5.7</td>\n",
              "    </tr>\n",
              "    <tr>\n",
              "      <th>16742</th>\n",
              "      <td>Man Among Cheetahs</td>\n",
              "      <td>2017</td>\n",
              "      <td>6.6</td>\n",
              "    </tr>\n",
              "    <tr>\n",
              "      <th>16743</th>\n",
              "      <td>In Beaver Valley</td>\n",
              "      <td>1950</td>\n",
              "      <td>NaN</td>\n",
              "    </tr>\n",
              "  </tbody>\n",
              "</table>\n",
              "<p>16744 rows × 3 columns</p>\n",
              "</div>"
            ],
            "text/plain": [
              "                                Title  Year  IMDb\n",
              "0                           Inception  2010   8.8\n",
              "1                          The Matrix  1999   8.7\n",
              "2              Avengers: Infinity War  2018   8.5\n",
              "3                  Back to the Future  1985   8.5\n",
              "4      The Good, the Bad and the Ugly  1966   8.8\n",
              "...                               ...   ...   ...\n",
              "16739       The Ghosts of Buxley Hall  1980   6.2\n",
              "16740                  The Poof Point  2001   4.7\n",
              "16741           Sharks of Lost Island  2013   5.7\n",
              "16742              Man Among Cheetahs  2017   6.6\n",
              "16743                In Beaver Valley  1950   NaN\n",
              "\n",
              "[16744 rows x 3 columns]"
            ]
          },
          "metadata": {
            "tags": []
          },
          "execution_count": 11
        }
      ]
    },
    {
      "cell_type": "markdown",
      "metadata": {
        "id": "dzOQYYSGAnrs",
        "colab_type": "text"
      },
      "source": [
        "Así se pueden ver los elementos de una columna en particular, en este caso se muestra con la columna \"Title\"."
      ]
    },
    {
      "cell_type": "code",
      "metadata": {
        "colab_type": "code",
        "id": "zUXnDZaBJ0pp",
        "scrolled": true,
        "colab": {
          "base_uri": "https://localhost:8080/",
          "height": 218
        },
        "outputId": "fa49c878-3645-4ba5-9a5f-7273a99dce53"
      },
      "source": [
        "data[\"Title\"]"
      ],
      "execution_count": 12,
      "outputs": [
        {
          "output_type": "execute_result",
          "data": {
            "text/plain": [
              "0                             Inception\n",
              "1                            The Matrix\n",
              "2                Avengers: Infinity War\n",
              "3                    Back to the Future\n",
              "4        The Good, the Bad and the Ugly\n",
              "                      ...              \n",
              "16739         The Ghosts of Buxley Hall\n",
              "16740                    The Poof Point\n",
              "16741             Sharks of Lost Island\n",
              "16742                Man Among Cheetahs\n",
              "16743                  In Beaver Valley\n",
              "Name: Title, Length: 16744, dtype: object"
            ]
          },
          "metadata": {
            "tags": []
          },
          "execution_count": 12
        }
      ]
    },
    {
      "cell_type": "markdown",
      "metadata": {
        "id": "cY6VyTg5Anru",
        "colab_type": "text"
      },
      "source": [
        "El siguiente código muestra la fila correspondiente al número que se entrega, mediante índices. En este caso como se coloca 0, muestra la primera fila del *dataframe*. "
      ]
    },
    {
      "cell_type": "code",
      "metadata": {
        "colab_type": "code",
        "id": "YXsdaK-ZJ0ps",
        "colab": {
          "base_uri": "https://localhost:8080/",
          "height": 269
        },
        "outputId": "91497bd6-663c-43c0-9eb8-f8501b523834"
      },
      "source": [
        "# data[0]\n",
        "data.iloc[0]"
      ],
      "execution_count": 13,
      "outputs": [
        {
          "output_type": "execute_result",
          "data": {
            "text/plain": [
              "Title                                     Inception\n",
              "Year                                           2010\n",
              "Age                                             13+\n",
              "IMDb                                            8.8\n",
              "Rotten Tomatoes                                 87%\n",
              "Netflix                                           1\n",
              "Hulu                                              0\n",
              "Prime Video                                       0\n",
              "Disney+                                           0\n",
              "Directors                         Christopher Nolan\n",
              "Genres             Action,Adventure,Sci-Fi,Thriller\n",
              "Country                United States,United Kingdom\n",
              "Language                    English,Japanese,French\n",
              "Runtime                                         148\n",
              "Name: 0, dtype: object"
            ]
          },
          "metadata": {
            "tags": []
          },
          "execution_count": 13
        }
      ]
    },
    {
      "cell_type": "markdown",
      "metadata": {
        "id": "p6mtn-rBAnry",
        "colab_type": "text"
      },
      "source": [
        "Se utiliza time() para ver cuanto se demora en ejecutar dos códigos diferentes con la finalidad de ver que tanto más rápido es utilizar pandas."
      ]
    },
    {
      "cell_type": "code",
      "metadata": {
        "colab_type": "code",
        "id": "pPvhYazBJ0pu",
        "colab": {
          "base_uri": "https://localhost:8080/",
          "height": 118
        },
        "outputId": "bb8ebf69-3e47-49d9-814f-f4c39eb3334c"
      },
      "source": [
        "t1 = time.time()\n",
        "suma = data[\"Runtime\"].sum()\n",
        "tiempo_1 = (time.time() - t1)*1000\n",
        "print(\"Se ha demorado {} milisegundos\\nLa suma es: {}\".format(tiempo_1, suma))\n",
        "\n",
        "t2 = time.time()\n",
        "suma = 0\n",
        "for monto in data[\"Runtime\"]:\n",
        "  if not pd.isnull(monto):\n",
        "    suma += monto\n",
        "tiempo_2 = (time.time() - t2)*1000\n",
        "print(\"Se ha demorado {} milisegundos\\nLa suma es: {}\".format(tiempo_2, suma))\n",
        "\n",
        "print(\"-\"*40)\n",
        "print(\"Pandas fue {} veces más rápido\".format(tiempo_2/tiempo_1))"
      ],
      "execution_count": 14,
      "outputs": [
        {
          "output_type": "stream",
          "text": [
            "Se ha demorado 0.9388923645019531 milisegundos\n",
            "La suma es: 1508814.0\n",
            "Se ha demorado 9.073019027709961 milisegundos\n",
            "La suma es: 1508814.0\n",
            "----------------------------------------\n",
            "Pandas fue 9.663534789233113 veces más rápido\n"
          ],
          "name": "stdout"
        }
      ]
    },
    {
      "cell_type": "markdown",
      "metadata": {
        "id": "HYJYe1mvBqqR",
        "colab_type": "text"
      },
      "source": [
        "Pandas nos permite filtrar datos de la tabla según ciertas condiciones, al hacer esto retorna una serie de valores que pueden ser True, si el valor respectivo cumple con las condiciones o False en caso contrario.\n",
        "\n",
        "Por ejemplo digamos que queremos ver que películas duran mas de 50 minutos, hacemos lo siguiente:"
      ]
    },
    {
      "cell_type": "code",
      "metadata": {
        "id": "Q2zA_FqtCHeV",
        "colab_type": "code",
        "colab": {
          "base_uri": "https://localhost:8080/",
          "height": 218
        },
        "outputId": "e8acf2da-8c3d-49a5-a0a2-343f29fa8e21"
      },
      "source": [
        "(data[\"Runtime\"] > 50)"
      ],
      "execution_count": 20,
      "outputs": [
        {
          "output_type": "execute_result",
          "data": {
            "text/plain": [
              "0         True\n",
              "1         True\n",
              "2         True\n",
              "3         True\n",
              "4         True\n",
              "         ...  \n",
              "16739     True\n",
              "16740     True\n",
              "16741    False\n",
              "16742    False\n",
              "16743    False\n",
              "Name: Runtime, Length: 16744, dtype: bool"
            ]
          },
          "metadata": {
            "tags": []
          },
          "execution_count": 20
        }
      ]
    },
    {
      "cell_type": "markdown",
      "metadata": {
        "id": "fJuOeXUMCKPk",
        "colab_type": "text"
      },
      "source": [
        "Esto está muy bien, sin embargo no nos dice mucho.\n",
        "Si queremos ver los **datos** de las películas que duran mas de 50 minutos, debemos poner ese código dentro de un \"selector\" de datos."
      ]
    },
    {
      "cell_type": "code",
      "metadata": {
        "colab_type": "code",
        "id": "JmpqLmPmzSx4",
        "colab": {
          "base_uri": "https://localhost:8080/",
          "height": 586
        },
        "outputId": "89dcb536-0802-481f-9700-20eb2b555b24"
      },
      "source": [
        "new_data = data[data[\"Runtime\"]>50]\n",
        "new_data"
      ],
      "execution_count": 21,
      "outputs": [
        {
          "output_type": "execute_result",
          "data": {
            "text/html": [
              "<div>\n",
              "<style scoped>\n",
              "    .dataframe tbody tr th:only-of-type {\n",
              "        vertical-align: middle;\n",
              "    }\n",
              "\n",
              "    .dataframe tbody tr th {\n",
              "        vertical-align: top;\n",
              "    }\n",
              "\n",
              "    .dataframe thead th {\n",
              "        text-align: right;\n",
              "    }\n",
              "</style>\n",
              "<table border=\"1\" class=\"dataframe\">\n",
              "  <thead>\n",
              "    <tr style=\"text-align: right;\">\n",
              "      <th></th>\n",
              "      <th>Title</th>\n",
              "      <th>Year</th>\n",
              "      <th>Age</th>\n",
              "      <th>IMDb</th>\n",
              "      <th>Rotten Tomatoes</th>\n",
              "      <th>Netflix</th>\n",
              "      <th>Hulu</th>\n",
              "      <th>Prime Video</th>\n",
              "      <th>Disney+</th>\n",
              "      <th>Directors</th>\n",
              "      <th>Genres</th>\n",
              "      <th>Country</th>\n",
              "      <th>Language</th>\n",
              "      <th>Runtime</th>\n",
              "    </tr>\n",
              "  </thead>\n",
              "  <tbody>\n",
              "    <tr>\n",
              "      <th>0</th>\n",
              "      <td>Inception</td>\n",
              "      <td>2010</td>\n",
              "      <td>13+</td>\n",
              "      <td>8.8</td>\n",
              "      <td>87%</td>\n",
              "      <td>1</td>\n",
              "      <td>0</td>\n",
              "      <td>0</td>\n",
              "      <td>0</td>\n",
              "      <td>Christopher Nolan</td>\n",
              "      <td>Action,Adventure,Sci-Fi,Thriller</td>\n",
              "      <td>United States,United Kingdom</td>\n",
              "      <td>English,Japanese,French</td>\n",
              "      <td>148.0</td>\n",
              "    </tr>\n",
              "    <tr>\n",
              "      <th>1</th>\n",
              "      <td>The Matrix</td>\n",
              "      <td>1999</td>\n",
              "      <td>18+</td>\n",
              "      <td>8.7</td>\n",
              "      <td>87%</td>\n",
              "      <td>1</td>\n",
              "      <td>0</td>\n",
              "      <td>0</td>\n",
              "      <td>0</td>\n",
              "      <td>Lana Wachowski,Lilly Wachowski</td>\n",
              "      <td>Action,Sci-Fi</td>\n",
              "      <td>United States</td>\n",
              "      <td>English</td>\n",
              "      <td>136.0</td>\n",
              "    </tr>\n",
              "    <tr>\n",
              "      <th>2</th>\n",
              "      <td>Avengers: Infinity War</td>\n",
              "      <td>2018</td>\n",
              "      <td>13+</td>\n",
              "      <td>8.5</td>\n",
              "      <td>84%</td>\n",
              "      <td>1</td>\n",
              "      <td>0</td>\n",
              "      <td>0</td>\n",
              "      <td>0</td>\n",
              "      <td>Anthony Russo,Joe Russo</td>\n",
              "      <td>Action,Adventure,Sci-Fi</td>\n",
              "      <td>United States</td>\n",
              "      <td>English</td>\n",
              "      <td>149.0</td>\n",
              "    </tr>\n",
              "    <tr>\n",
              "      <th>3</th>\n",
              "      <td>Back to the Future</td>\n",
              "      <td>1985</td>\n",
              "      <td>7+</td>\n",
              "      <td>8.5</td>\n",
              "      <td>96%</td>\n",
              "      <td>1</td>\n",
              "      <td>0</td>\n",
              "      <td>0</td>\n",
              "      <td>0</td>\n",
              "      <td>Robert Zemeckis</td>\n",
              "      <td>Adventure,Comedy,Sci-Fi</td>\n",
              "      <td>United States</td>\n",
              "      <td>English</td>\n",
              "      <td>116.0</td>\n",
              "    </tr>\n",
              "    <tr>\n",
              "      <th>4</th>\n",
              "      <td>The Good, the Bad and the Ugly</td>\n",
              "      <td>1966</td>\n",
              "      <td>18+</td>\n",
              "      <td>8.8</td>\n",
              "      <td>97%</td>\n",
              "      <td>1</td>\n",
              "      <td>0</td>\n",
              "      <td>1</td>\n",
              "      <td>0</td>\n",
              "      <td>Sergio Leone</td>\n",
              "      <td>Western</td>\n",
              "      <td>Italy,Spain,West Germany</td>\n",
              "      <td>Italian</td>\n",
              "      <td>161.0</td>\n",
              "    </tr>\n",
              "    <tr>\n",
              "      <th>...</th>\n",
              "      <td>...</td>\n",
              "      <td>...</td>\n",
              "      <td>...</td>\n",
              "      <td>...</td>\n",
              "      <td>...</td>\n",
              "      <td>...</td>\n",
              "      <td>...</td>\n",
              "      <td>...</td>\n",
              "      <td>...</td>\n",
              "      <td>...</td>\n",
              "      <td>...</td>\n",
              "      <td>...</td>\n",
              "      <td>...</td>\n",
              "      <td>...</td>\n",
              "    </tr>\n",
              "    <tr>\n",
              "      <th>16734</th>\n",
              "      <td>Sultan And The Rock Star</td>\n",
              "      <td>1980</td>\n",
              "      <td>NaN</td>\n",
              "      <td>5.9</td>\n",
              "      <td>NaN</td>\n",
              "      <td>0</td>\n",
              "      <td>0</td>\n",
              "      <td>0</td>\n",
              "      <td>1</td>\n",
              "      <td>Edward M. Abroms</td>\n",
              "      <td>Adventure,Drama,Family</td>\n",
              "      <td>United States</td>\n",
              "      <td>English</td>\n",
              "      <td>60.0</td>\n",
              "    </tr>\n",
              "    <tr>\n",
              "      <th>16737</th>\n",
              "      <td>The Bears and I</td>\n",
              "      <td>1974</td>\n",
              "      <td>all</td>\n",
              "      <td>6.2</td>\n",
              "      <td>NaN</td>\n",
              "      <td>0</td>\n",
              "      <td>0</td>\n",
              "      <td>0</td>\n",
              "      <td>1</td>\n",
              "      <td>Bernard McEveety</td>\n",
              "      <td>Drama,Family</td>\n",
              "      <td>United States</td>\n",
              "      <td>English</td>\n",
              "      <td>89.0</td>\n",
              "    </tr>\n",
              "    <tr>\n",
              "      <th>16738</th>\n",
              "      <td>Whispers: An Elephant's Tale</td>\n",
              "      <td>2000</td>\n",
              "      <td>all</td>\n",
              "      <td>5.0</td>\n",
              "      <td>NaN</td>\n",
              "      <td>0</td>\n",
              "      <td>0</td>\n",
              "      <td>0</td>\n",
              "      <td>1</td>\n",
              "      <td>Dereck Joubert</td>\n",
              "      <td>Adventure,Family</td>\n",
              "      <td>United States</td>\n",
              "      <td>English</td>\n",
              "      <td>72.0</td>\n",
              "    </tr>\n",
              "    <tr>\n",
              "      <th>16739</th>\n",
              "      <td>The Ghosts of Buxley Hall</td>\n",
              "      <td>1980</td>\n",
              "      <td>NaN</td>\n",
              "      <td>6.2</td>\n",
              "      <td>NaN</td>\n",
              "      <td>0</td>\n",
              "      <td>0</td>\n",
              "      <td>0</td>\n",
              "      <td>1</td>\n",
              "      <td>Bruce Bilson</td>\n",
              "      <td>Comedy,Family,Fantasy,Horror</td>\n",
              "      <td>United States</td>\n",
              "      <td>English</td>\n",
              "      <td>120.0</td>\n",
              "    </tr>\n",
              "    <tr>\n",
              "      <th>16740</th>\n",
              "      <td>The Poof Point</td>\n",
              "      <td>2001</td>\n",
              "      <td>7+</td>\n",
              "      <td>4.7</td>\n",
              "      <td>NaN</td>\n",
              "      <td>0</td>\n",
              "      <td>0</td>\n",
              "      <td>0</td>\n",
              "      <td>1</td>\n",
              "      <td>Neal Israel</td>\n",
              "      <td>Comedy,Family,Sci-Fi</td>\n",
              "      <td>United States</td>\n",
              "      <td>English</td>\n",
              "      <td>90.0</td>\n",
              "    </tr>\n",
              "  </tbody>\n",
              "</table>\n",
              "<p>15420 rows × 14 columns</p>\n",
              "</div>"
            ],
            "text/plain": [
              "                                Title  Year  ...                 Language  Runtime\n",
              "0                           Inception  2010  ...  English,Japanese,French    148.0\n",
              "1                          The Matrix  1999  ...                  English    136.0\n",
              "2              Avengers: Infinity War  2018  ...                  English    149.0\n",
              "3                  Back to the Future  1985  ...                  English    116.0\n",
              "4      The Good, the Bad and the Ugly  1966  ...                  Italian    161.0\n",
              "...                               ...   ...  ...                      ...      ...\n",
              "16734        Sultan And The Rock Star  1980  ...                  English     60.0\n",
              "16737                 The Bears and I  1974  ...                  English     89.0\n",
              "16738    Whispers: An Elephant's Tale  2000  ...                  English     72.0\n",
              "16739       The Ghosts of Buxley Hall  1980  ...                  English    120.0\n",
              "16740                  The Poof Point  2001  ...                  English     90.0\n",
              "\n",
              "[15420 rows x 14 columns]"
            ]
          },
          "metadata": {
            "tags": []
          },
          "execution_count": 21
        }
      ]
    },
    {
      "cell_type": "markdown",
      "metadata": {
        "id": "OaabIJ4dCdIW",
        "colab_type": "text"
      },
      "source": [
        "Lo cual sólo nos muestra los datos de las películas que cumplen con la condición.\n",
        "\n",
        "Podemos también juntar varias de estas condiciones usando los operadores lógicos\n",
        "\n",
        "& para AND\n",
        "\n",
        "\\| para OR\n",
        "\n",
        "^ para XOR\n",
        "\n",
        "~ para NOT"
      ]
    },
    {
      "cell_type": "code",
      "metadata": {
        "colab_type": "code",
        "id": "3hMz5IIHJ0py",
        "colab": {
          "base_uri": "https://localhost:8080/",
          "height": 704
        },
        "outputId": "a6722ab0-138b-4db7-e473-d5720229fbfb"
      },
      "source": [
        "new_data = data[(data[\"Runtime\"] > 50) & (data[\"Disney+\"] == 1)]\n",
        "# new_data = data[~(data[\"Runtime\"] > 50) ^ (data[\"Disney+\"] == 1)]\n",
        "# new_data = data[(data[\"Runtime\"] < 60) | (data[\"Runtime\"] > 110)]\n",
        "# new_data = data[data[\"Country\"] == \"United States\"]\n",
        "new_data"
      ],
      "execution_count": 25,
      "outputs": [
        {
          "output_type": "execute_result",
          "data": {
            "text/html": [
              "<div>\n",
              "<style scoped>\n",
              "    .dataframe tbody tr th:only-of-type {\n",
              "        vertical-align: middle;\n",
              "    }\n",
              "\n",
              "    .dataframe tbody tr th {\n",
              "        vertical-align: top;\n",
              "    }\n",
              "\n",
              "    .dataframe thead th {\n",
              "        text-align: right;\n",
              "    }\n",
              "</style>\n",
              "<table border=\"1\" class=\"dataframe\">\n",
              "  <thead>\n",
              "    <tr style=\"text-align: right;\">\n",
              "      <th></th>\n",
              "      <th>Title</th>\n",
              "      <th>Year</th>\n",
              "      <th>Age</th>\n",
              "      <th>IMDb</th>\n",
              "      <th>Rotten Tomatoes</th>\n",
              "      <th>Netflix</th>\n",
              "      <th>Hulu</th>\n",
              "      <th>Prime Video</th>\n",
              "      <th>Disney+</th>\n",
              "      <th>Directors</th>\n",
              "      <th>Genres</th>\n",
              "      <th>Country</th>\n",
              "      <th>Language</th>\n",
              "      <th>Runtime</th>\n",
              "    </tr>\n",
              "  </thead>\n",
              "  <tbody>\n",
              "    <tr>\n",
              "      <th>95</th>\n",
              "      <td>Saving Mr. Banks</td>\n",
              "      <td>2013</td>\n",
              "      <td>13+</td>\n",
              "      <td>7.5</td>\n",
              "      <td>79%</td>\n",
              "      <td>1</td>\n",
              "      <td>0</td>\n",
              "      <td>0</td>\n",
              "      <td>1</td>\n",
              "      <td>John Lee Hancock</td>\n",
              "      <td>Biography,Comedy,Drama</td>\n",
              "      <td>United States,United Kingdom,Australia</td>\n",
              "      <td>English</td>\n",
              "      <td>125.0</td>\n",
              "    </tr>\n",
              "    <tr>\n",
              "      <th>103</th>\n",
              "      <td>Amy</td>\n",
              "      <td>2015</td>\n",
              "      <td>18+</td>\n",
              "      <td>7.8</td>\n",
              "      <td>95%</td>\n",
              "      <td>1</td>\n",
              "      <td>0</td>\n",
              "      <td>1</td>\n",
              "      <td>1</td>\n",
              "      <td>NaN</td>\n",
              "      <td>Drama</td>\n",
              "      <td>United States</td>\n",
              "      <td>English</td>\n",
              "      <td>60.0</td>\n",
              "    </tr>\n",
              "    <tr>\n",
              "      <th>122</th>\n",
              "      <td>Bolt</td>\n",
              "      <td>2008</td>\n",
              "      <td>7+</td>\n",
              "      <td>6.8</td>\n",
              "      <td>89%</td>\n",
              "      <td>1</td>\n",
              "      <td>0</td>\n",
              "      <td>0</td>\n",
              "      <td>1</td>\n",
              "      <td>Byron Howard,Chris Williams</td>\n",
              "      <td>Animation,Adventure,Comedy,Drama,Family</td>\n",
              "      <td>United States</td>\n",
              "      <td>English</td>\n",
              "      <td>96.0</td>\n",
              "    </tr>\n",
              "    <tr>\n",
              "      <th>125</th>\n",
              "      <td>The Princess and the Frog</td>\n",
              "      <td>2009</td>\n",
              "      <td>all</td>\n",
              "      <td>7.1</td>\n",
              "      <td>85%</td>\n",
              "      <td>1</td>\n",
              "      <td>0</td>\n",
              "      <td>0</td>\n",
              "      <td>1</td>\n",
              "      <td>Ron Clements,John Musker</td>\n",
              "      <td>Animation,Adventure,Comedy,Family,Fantasy,Musi...</td>\n",
              "      <td>United States</td>\n",
              "      <td>English,French</td>\n",
              "      <td>97.0</td>\n",
              "    </tr>\n",
              "    <tr>\n",
              "      <th>150</th>\n",
              "      <td>Miracle</td>\n",
              "      <td>2004</td>\n",
              "      <td>7+</td>\n",
              "      <td>7.5</td>\n",
              "      <td>81%</td>\n",
              "      <td>1</td>\n",
              "      <td>0</td>\n",
              "      <td>0</td>\n",
              "      <td>1</td>\n",
              "      <td>Gavin O'Connor</td>\n",
              "      <td>Biography,Drama,History,Sport</td>\n",
              "      <td>Canada,United States</td>\n",
              "      <td>English</td>\n",
              "      <td>135.0</td>\n",
              "    </tr>\n",
              "    <tr>\n",
              "      <th>...</th>\n",
              "      <td>...</td>\n",
              "      <td>...</td>\n",
              "      <td>...</td>\n",
              "      <td>...</td>\n",
              "      <td>...</td>\n",
              "      <td>...</td>\n",
              "      <td>...</td>\n",
              "      <td>...</td>\n",
              "      <td>...</td>\n",
              "      <td>...</td>\n",
              "      <td>...</td>\n",
              "      <td>...</td>\n",
              "      <td>...</td>\n",
              "      <td>...</td>\n",
              "    </tr>\n",
              "    <tr>\n",
              "      <th>16734</th>\n",
              "      <td>Sultan And The Rock Star</td>\n",
              "      <td>1980</td>\n",
              "      <td>NaN</td>\n",
              "      <td>5.9</td>\n",
              "      <td>NaN</td>\n",
              "      <td>0</td>\n",
              "      <td>0</td>\n",
              "      <td>0</td>\n",
              "      <td>1</td>\n",
              "      <td>Edward M. Abroms</td>\n",
              "      <td>Adventure,Drama,Family</td>\n",
              "      <td>United States</td>\n",
              "      <td>English</td>\n",
              "      <td>60.0</td>\n",
              "    </tr>\n",
              "    <tr>\n",
              "      <th>16737</th>\n",
              "      <td>The Bears and I</td>\n",
              "      <td>1974</td>\n",
              "      <td>all</td>\n",
              "      <td>6.2</td>\n",
              "      <td>NaN</td>\n",
              "      <td>0</td>\n",
              "      <td>0</td>\n",
              "      <td>0</td>\n",
              "      <td>1</td>\n",
              "      <td>Bernard McEveety</td>\n",
              "      <td>Drama,Family</td>\n",
              "      <td>United States</td>\n",
              "      <td>English</td>\n",
              "      <td>89.0</td>\n",
              "    </tr>\n",
              "    <tr>\n",
              "      <th>16738</th>\n",
              "      <td>Whispers: An Elephant's Tale</td>\n",
              "      <td>2000</td>\n",
              "      <td>all</td>\n",
              "      <td>5.0</td>\n",
              "      <td>NaN</td>\n",
              "      <td>0</td>\n",
              "      <td>0</td>\n",
              "      <td>0</td>\n",
              "      <td>1</td>\n",
              "      <td>Dereck Joubert</td>\n",
              "      <td>Adventure,Family</td>\n",
              "      <td>United States</td>\n",
              "      <td>English</td>\n",
              "      <td>72.0</td>\n",
              "    </tr>\n",
              "    <tr>\n",
              "      <th>16739</th>\n",
              "      <td>The Ghosts of Buxley Hall</td>\n",
              "      <td>1980</td>\n",
              "      <td>NaN</td>\n",
              "      <td>6.2</td>\n",
              "      <td>NaN</td>\n",
              "      <td>0</td>\n",
              "      <td>0</td>\n",
              "      <td>0</td>\n",
              "      <td>1</td>\n",
              "      <td>Bruce Bilson</td>\n",
              "      <td>Comedy,Family,Fantasy,Horror</td>\n",
              "      <td>United States</td>\n",
              "      <td>English</td>\n",
              "      <td>120.0</td>\n",
              "    </tr>\n",
              "    <tr>\n",
              "      <th>16740</th>\n",
              "      <td>The Poof Point</td>\n",
              "      <td>2001</td>\n",
              "      <td>7+</td>\n",
              "      <td>4.7</td>\n",
              "      <td>NaN</td>\n",
              "      <td>0</td>\n",
              "      <td>0</td>\n",
              "      <td>0</td>\n",
              "      <td>1</td>\n",
              "      <td>Neal Israel</td>\n",
              "      <td>Comedy,Family,Sci-Fi</td>\n",
              "      <td>United States</td>\n",
              "      <td>English</td>\n",
              "      <td>90.0</td>\n",
              "    </tr>\n",
              "  </tbody>\n",
              "</table>\n",
              "<p>505 rows × 14 columns</p>\n",
              "</div>"
            ],
            "text/plain": [
              "                              Title  Year  ...        Language  Runtime\n",
              "95                 Saving Mr. Banks  2013  ...         English    125.0\n",
              "103                             Amy  2015  ...         English     60.0\n",
              "122                            Bolt  2008  ...         English     96.0\n",
              "125       The Princess and the Frog  2009  ...  English,French     97.0\n",
              "150                         Miracle  2004  ...         English    135.0\n",
              "...                             ...   ...  ...             ...      ...\n",
              "16734      Sultan And The Rock Star  1980  ...         English     60.0\n",
              "16737               The Bears and I  1974  ...         English     89.0\n",
              "16738  Whispers: An Elephant's Tale  2000  ...         English     72.0\n",
              "16739     The Ghosts of Buxley Hall  1980  ...         English    120.0\n",
              "16740                The Poof Point  2001  ...         English     90.0\n",
              "\n",
              "[505 rows x 14 columns]"
            ]
          },
          "metadata": {
            "tags": []
          },
          "execution_count": 25
        }
      ]
    },
    {
      "cell_type": "markdown",
      "metadata": {
        "id": "LG8o02IoDfke",
        "colab_type": "text"
      },
      "source": [
        "Finalmente, tenenmos estas últimas dos funciones que sirven para darnos los N valores mas grandes o mas pequeños de una columna específica."
      ]
    },
    {
      "cell_type": "code",
      "metadata": {
        "colab_type": "code",
        "id": "8zeVUwTLJ0p4",
        "colab": {
          "base_uri": "https://localhost:8080/",
          "height": 615
        },
        "outputId": "21ed0332-130e-47fc-9027-e9b7f7684c41"
      },
      "source": [
        "top_10 = data.nlargest(10, \"Runtime\")\n",
        "top_10\n",
        "# bottom_10 = data.nsmallest(10, \"Runtime\")\n",
        "# bottom_10"
      ],
      "execution_count": 19,
      "outputs": [
        {
          "output_type": "execute_result",
          "data": {
            "text/html": [
              "<div>\n",
              "<style scoped>\n",
              "    .dataframe tbody tr th:only-of-type {\n",
              "        vertical-align: middle;\n",
              "    }\n",
              "\n",
              "    .dataframe tbody tr th {\n",
              "        vertical-align: top;\n",
              "    }\n",
              "\n",
              "    .dataframe thead th {\n",
              "        text-align: right;\n",
              "    }\n",
              "</style>\n",
              "<table border=\"1\" class=\"dataframe\">\n",
              "  <thead>\n",
              "    <tr style=\"text-align: right;\">\n",
              "      <th></th>\n",
              "      <th>Title</th>\n",
              "      <th>Year</th>\n",
              "      <th>Age</th>\n",
              "      <th>IMDb</th>\n",
              "      <th>Rotten Tomatoes</th>\n",
              "      <th>Netflix</th>\n",
              "      <th>Hulu</th>\n",
              "      <th>Prime Video</th>\n",
              "      <th>Disney+</th>\n",
              "      <th>Directors</th>\n",
              "      <th>Genres</th>\n",
              "      <th>Country</th>\n",
              "      <th>Language</th>\n",
              "      <th>Runtime</th>\n",
              "    </tr>\n",
              "  </thead>\n",
              "  <tbody>\n",
              "    <tr>\n",
              "      <th>13179</th>\n",
              "      <td>Colorado</td>\n",
              "      <td>1940</td>\n",
              "      <td>all</td>\n",
              "      <td>5.9</td>\n",
              "      <td>NaN</td>\n",
              "      <td>0</td>\n",
              "      <td>0</td>\n",
              "      <td>1</td>\n",
              "      <td>0</td>\n",
              "      <td>NaN</td>\n",
              "      <td>Action,Adventure,Drama,Romance,Western</td>\n",
              "      <td>United States</td>\n",
              "      <td>English</td>\n",
              "      <td>1256.0</td>\n",
              "    </tr>\n",
              "    <tr>\n",
              "      <th>4405</th>\n",
              "      <td>Law of the Lawless</td>\n",
              "      <td>1964</td>\n",
              "      <td>NaN</td>\n",
              "      <td>6.1</td>\n",
              "      <td>NaN</td>\n",
              "      <td>0</td>\n",
              "      <td>1</td>\n",
              "      <td>1</td>\n",
              "      <td>0</td>\n",
              "      <td>NaN</td>\n",
              "      <td>Action,Crime,Drama</td>\n",
              "      <td>Russia</td>\n",
              "      <td>Russian</td>\n",
              "      <td>750.0</td>\n",
              "    </tr>\n",
              "    <tr>\n",
              "      <th>15295</th>\n",
              "      <td>The Vatican Museums</td>\n",
              "      <td>2007</td>\n",
              "      <td>NaN</td>\n",
              "      <td>5.0</td>\n",
              "      <td>NaN</td>\n",
              "      <td>0</td>\n",
              "      <td>0</td>\n",
              "      <td>1</td>\n",
              "      <td>0</td>\n",
              "      <td>Luca De Mata</td>\n",
              "      <td>NaN</td>\n",
              "      <td>Italy</td>\n",
              "      <td>English</td>\n",
              "      <td>410.0</td>\n",
              "    </tr>\n",
              "    <tr>\n",
              "      <th>12475</th>\n",
              "      <td>Scarlett</td>\n",
              "      <td>2016</td>\n",
              "      <td>16+</td>\n",
              "      <td>4.4</td>\n",
              "      <td>NaN</td>\n",
              "      <td>0</td>\n",
              "      <td>0</td>\n",
              "      <td>1</td>\n",
              "      <td>0</td>\n",
              "      <td>NaN</td>\n",
              "      <td>Drama,Romance</td>\n",
              "      <td>France,United States,Germany,Italy,United King...</td>\n",
              "      <td>English</td>\n",
              "      <td>360.0</td>\n",
              "    </tr>\n",
              "    <tr>\n",
              "      <th>14113</th>\n",
              "      <td>The Inner Circle</td>\n",
              "      <td>2009</td>\n",
              "      <td>NaN</td>\n",
              "      <td>6.6</td>\n",
              "      <td>NaN</td>\n",
              "      <td>0</td>\n",
              "      <td>0</td>\n",
              "      <td>1</td>\n",
              "      <td>0</td>\n",
              "      <td>NaN</td>\n",
              "      <td>Drama</td>\n",
              "      <td>Sweden</td>\n",
              "      <td>Swedish</td>\n",
              "      <td>360.0</td>\n",
              "    </tr>\n",
              "    <tr>\n",
              "      <th>13115</th>\n",
              "      <td>Carlos el terrorista</td>\n",
              "      <td>1980</td>\n",
              "      <td>NaN</td>\n",
              "      <td>6.1</td>\n",
              "      <td>NaN</td>\n",
              "      <td>0</td>\n",
              "      <td>0</td>\n",
              "      <td>1</td>\n",
              "      <td>0</td>\n",
              "      <td>NaN</td>\n",
              "      <td>Biography,Crime,Drama,Thriller</td>\n",
              "      <td>France,Germany</td>\n",
              "      <td>English,Arabic,German,Spanish,French,Hungarian...</td>\n",
              "      <td>334.0</td>\n",
              "    </tr>\n",
              "    <tr>\n",
              "      <th>13048</th>\n",
              "      <td>Custer's Last Stand</td>\n",
              "      <td>1936</td>\n",
              "      <td>NaN</td>\n",
              "      <td>4.6</td>\n",
              "      <td>NaN</td>\n",
              "      <td>0</td>\n",
              "      <td>0</td>\n",
              "      <td>1</td>\n",
              "      <td>0</td>\n",
              "      <td>Elmer Clifton</td>\n",
              "      <td>Adventure,History,Romance,War,Western</td>\n",
              "      <td>United States</td>\n",
              "      <td>English</td>\n",
              "      <td>328.0</td>\n",
              "    </tr>\n",
              "    <tr>\n",
              "      <th>6245</th>\n",
              "      <td>Gone</td>\n",
              "      <td>2012</td>\n",
              "      <td>13+</td>\n",
              "      <td>5.9</td>\n",
              "      <td>10%</td>\n",
              "      <td>0</td>\n",
              "      <td>0</td>\n",
              "      <td>1</td>\n",
              "      <td>0</td>\n",
              "      <td>NaN</td>\n",
              "      <td>Drama,Mystery</td>\n",
              "      <td>United Kingdom</td>\n",
              "      <td>English</td>\n",
              "      <td>270.0</td>\n",
              "    </tr>\n",
              "    <tr>\n",
              "      <th>3861</th>\n",
              "      <td>Dina</td>\n",
              "      <td>2017</td>\n",
              "      <td>NaN</td>\n",
              "      <td>6.8</td>\n",
              "      <td>98%</td>\n",
              "      <td>0</td>\n",
              "      <td>1</td>\n",
              "      <td>0</td>\n",
              "      <td>0</td>\n",
              "      <td>NaN</td>\n",
              "      <td>Adventure,Drama,Fantasy,Sci-Fi</td>\n",
              "      <td>United States,Canada,Germany,Italy</td>\n",
              "      <td>English,Italian</td>\n",
              "      <td>265.0</td>\n",
              "    </tr>\n",
              "    <tr>\n",
              "      <th>5673</th>\n",
              "      <td>The Greatest Story Ever Told</td>\n",
              "      <td>1965</td>\n",
              "      <td>all</td>\n",
              "      <td>6.6</td>\n",
              "      <td>41%</td>\n",
              "      <td>0</td>\n",
              "      <td>0</td>\n",
              "      <td>1</td>\n",
              "      <td>0</td>\n",
              "      <td>George Stevens,David Lean,Jean Negulesco</td>\n",
              "      <td>Biography,Drama,History</td>\n",
              "      <td>United States</td>\n",
              "      <td>English</td>\n",
              "      <td>260.0</td>\n",
              "    </tr>\n",
              "  </tbody>\n",
              "</table>\n",
              "</div>"
            ],
            "text/plain": [
              "                              Title  ...  Runtime\n",
              "13179                      Colorado  ...   1256.0\n",
              "4405             Law of the Lawless  ...    750.0\n",
              "15295           The Vatican Museums  ...    410.0\n",
              "12475                      Scarlett  ...    360.0\n",
              "14113              The Inner Circle  ...    360.0\n",
              "13115          Carlos el terrorista  ...    334.0\n",
              "13048           Custer's Last Stand  ...    328.0\n",
              "6245                           Gone  ...    270.0\n",
              "3861                           Dina  ...    265.0\n",
              "5673   The Greatest Story Ever Told  ...    260.0\n",
              "\n",
              "[10 rows x 14 columns]"
            ]
          },
          "metadata": {
            "tags": []
          },
          "execution_count": 19
        }
      ]
    },
    {
      "cell_type": "code",
      "metadata": {
        "colab_type": "code",
        "id": "x0mM3HIKJ0p7",
        "colab": {}
      },
      "source": [
        ""
      ],
      "execution_count": 19,
      "outputs": []
    }
  ]
}